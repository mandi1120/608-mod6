{
 "cells": [
  {
   "cell_type": "markdown",
   "id": "62260cd7-eb10-45d2-a233-004abfc5ba1a",
   "metadata": {},
   "source": [
    "# Project - Part 1 (from 9.12 above)"
   ]
  },
  {
   "cell_type": "code",
   "execution_count": 1,
   "id": "8db8093e-e1b6-49f0-8bf4-1fde6eddef39",
   "metadata": {},
   "outputs": [
    {
     "name": "stdout",
     "output_type": "stream",
     "text": [
      "                           Unnamed: 0 survived     sex      age passengerClass\n",
      "0       Allen, Miss. Elisabeth Walton      yes  female  29.0000            1st\n",
      "1      Allison, Master. Hudson Trevor      yes    male   0.9167            1st\n",
      "2        Allison, Miss. Helen Loraine       no  female   2.0000            1st\n",
      "3     Allison, Mr. Hudson Joshua Crei       no    male  30.0000            1st\n",
      "4     Allison, Mrs. Hudson J C (Bessi       no  female  25.0000            1st\n",
      "...                               ...      ...     ...      ...            ...\n",
      "1304             Zabour, Miss. Hileni       no  female  14.5000            3rd\n",
      "1305            Zabour, Miss. Thamine       no  female      NaN            3rd\n",
      "1306        Zakarian, Mr. Mapriededer       no    male  26.5000            3rd\n",
      "1307              Zakarian, Mr. Ortin       no    male  27.0000            3rd\n",
      "1308               Zimmerman, Mr. Leo       no    male  29.0000            3rd\n",
      "\n",
      "[1309 rows x 5 columns]\n"
     ]
    }
   ],
   "source": [
    "# Follow the instructions in 9.12.3 and use pandas to read in the Titanic Disaster dataset csv file.\n",
    "import pandas as pd\n",
    "titanic = pd.read_csv('https://vincentarelbundock.github.io/' + \n",
    "                      'Rdatasets/csv/carData/TitanicSurvival.csv')\n",
    "print(titanic)"
   ]
  },
  {
   "cell_type": "code",
   "execution_count": 2,
   "id": "c3f75ff8-ecb3-4436-addc-f662311597b4",
   "metadata": {},
   "outputs": [
    {
     "name": "stdout",
     "output_type": "stream",
     "text": [
      "Head:                          Unnamed: 0 survived     sex    age passengerClass\n",
      "0    Allen, Miss. Elisabeth Walton      yes  female  29.00            1st\n",
      "1   Allison, Master. Hudson Trevor      yes    male   0.92            1st\n",
      "2     Allison, Miss. Helen Loraine       no  female   2.00            1st\n",
      "3  Allison, Mr. Hudson Joshua Crei       no    male  30.00            1st\n",
      "4  Allison, Mrs. Hudson J C (Bessi       no  female  25.00            1st\n",
      "Tail:                      Unnamed: 0 survived     sex   age passengerClass\n",
      "1304       Zabour, Miss. Hileni       no  female  14.5            3rd\n",
      "1305      Zabour, Miss. Thamine       no  female   NaN            3rd\n",
      "1306  Zakarian, Mr. Mapriededer       no    male  26.5            3rd\n",
      "1307        Zakarian, Mr. Ortin       no    male  27.0            3rd\n",
      "1308         Zimmerman, Mr. Leo       no    male  29.0            3rd\n"
     ]
    }
   ],
   "source": [
    "# Set the precision to 2 decimal places.\n",
    "pd.set_option('precision', 2)\n",
    "\n",
    "# View the head and tail of the file.\n",
    "print(\"Head: \", titanic.head())\n",
    "print(\"Tail:\", titanic.tail())"
   ]
  },
  {
   "cell_type": "code",
   "execution_count": 3,
   "id": "5aba8bd8-387d-49ff-88c2-ba4eee0fe770",
   "metadata": {},
   "outputs": [
    {
     "name": "stdout",
     "output_type": "stream",
     "text": [
      "                                 name survived     sex    age class\n",
      "0       Allen, Miss. Elisabeth Walton      yes  female  29.00   1st\n",
      "1      Allison, Master. Hudson Trevor      yes    male   0.92   1st\n",
      "2        Allison, Miss. Helen Loraine       no  female   2.00   1st\n",
      "3     Allison, Mr. Hudson Joshua Crei       no    male  30.00   1st\n",
      "4     Allison, Mrs. Hudson J C (Bessi       no  female  25.00   1st\n",
      "...                               ...      ...     ...    ...   ...\n",
      "1304             Zabour, Miss. Hileni       no  female  14.50   3rd\n",
      "1305            Zabour, Miss. Thamine       no  female    NaN   3rd\n",
      "1306        Zakarian, Mr. Mapriededer       no    male  26.50   3rd\n",
      "1307              Zakarian, Mr. Ortin       no    male  27.00   3rd\n",
      "1308               Zimmerman, Mr. Leo       no    male  29.00   3rd\n",
      "\n",
      "[1309 rows x 5 columns]\n"
     ]
    }
   ],
   "source": [
    "# Follow the instructions to customize the column headings.\n",
    "titanic.columns = ['name', 'survived', 'sex', 'age', 'class']\n",
    "print(titanic)"
   ]
  },
  {
   "cell_type": "code",
   "execution_count": 4,
   "id": "5fb01178-c572-4ba4-a821-bc99a62e9e99",
   "metadata": {},
   "outputs": [
    {
     "name": "stdout",
     "output_type": "stream",
     "text": [
      "           age\n",
      "count  1046.00\n",
      "mean     29.88\n",
      "std      14.41\n",
      "min       0.17\n",
      "25%      21.00\n",
      "50%      28.00\n",
      "75%      39.00\n",
      "max      80.00\n"
     ]
    }
   ],
   "source": [
    "# Use the DataFrame describe() function to calculate basic descriptive statistics for the numeric columns. \n",
    "print(titanic.describe())"
   ]
  },
  {
   "cell_type": "code",
   "execution_count": 5,
   "id": "9a2cb063-2f29-4510-a961-74be39c163fa",
   "metadata": {},
   "outputs": [
    {
     "data": {
      "text/plain": [
       "count      1309\n",
       "unique        2\n",
       "top       False\n",
       "freq        809\n",
       "Name: survived, dtype: object"
      ]
     },
     "execution_count": 5,
     "metadata": {},
     "output_type": "execute_result"
    }
   ],
   "source": [
    "# Follow instructions to describe statistics for those who survived (titanic.survived == 'yes') - see the example. \n",
    "# Notice that describe provides different results for non-numeric data (e.g., unique, top, freq)\n",
    "(titanic.survived == 'yes').describe() "
   ]
  },
  {
   "cell_type": "code",
   "execution_count": 6,
   "id": "4c64fdfb-e35d-453f-9230-d230b3c214fc",
   "metadata": {},
   "outputs": [
    {
     "data": {
      "image/png": "[encoded data removed]",
      "text/plain": [
       "<Figure size 432x288 with 1 Axes>"
      ]
     },
     "metadata": {
      "needs_background": "light"
     },
     "output_type": "display_data"
    }
   ],
   "source": [
    "# Enable matplotlib\n",
    "# %matplotlib without the inline didn't work for me\n",
    "%matplotlib inline\n",
    "\n",
    "# Use the DataFrame's hist() function to create a histograms for each numerical column.\n",
    "histogram = titanic.hist()\n",
    "\n",
    "# Take a screenshot showing your histograms. \n",
    "# amanda hanway"
   ]
  },
  {
   "cell_type": "code",
   "execution_count": null,
   "id": "bd6f23c7-6f2b-42ee-a49c-13e6ffd3a664",
   "metadata": {},
   "outputs": [],
   "source": []
  }
 ],
 "metadata": {
  "kernelspec": {
   "display_name": "Python 3 (ipykernel)",
   "language": "python",
   "name": "python3"
  },
  "language_info": {
   "codemirror_mode": {
    "name": "ipython",
    "version": 3
   },
   "file_extension": ".py",
   "mimetype": "text/x-python",
   "name": "python",
   "nbconvert_exporter": "python",
   "pygments_lexer": "ipython3",
   "version": "3.9.7"
  }
 },
 "nbformat": 4,
 "nbformat_minor": 5
}
