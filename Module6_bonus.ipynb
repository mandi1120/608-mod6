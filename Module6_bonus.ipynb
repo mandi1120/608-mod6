{
 "cells": [
  {
   "cell_type": "markdown",
   "id": "07f5b8d3-b17b-4cfd-a0fd-91ce440f6fb5",
   "metadata": {},
   "source": [
    "# Bonus (Optional)"
   ]
  },
  {
   "cell_type": "code",
   "execution_count": 1,
   "id": "c64ad223-9cfa-486d-82ed-3478278f436b",
   "metadata": {},
   "outputs": [
    {
     "name": "stdout",
     "output_type": "stream",
     "text": [
      "Cats Dataframe\n"
     ]
    },
    {
     "data": {
      "text/html": [
       "<div>\n",
       "<style scoped>\n",
       "    .dataframe tbody tr th:only-of-type {\n",
       "        vertical-align: middle;\n",
       "    }\n",
       "\n",
       "    .dataframe tbody tr th {\n",
       "        vertical-align: top;\n",
       "    }\n",
       "\n",
       "    .dataframe thead th {\n",
       "        text-align: right;\n",
       "    }\n",
       "</style>\n",
       "<table border=\"1\" class=\"dataframe\">\n",
       "  <thead>\n",
       "    <tr style=\"text-align: right;\">\n",
       "      <th></th>\n",
       "      <th>row</th>\n",
       "      <th>sex</th>\n",
       "      <th>body_weight_kg</th>\n",
       "      <th>heart_weight_g</th>\n",
       "    </tr>\n",
       "  </thead>\n",
       "  <tbody>\n",
       "    <tr>\n",
       "      <th>0</th>\n",
       "      <td>1</td>\n",
       "      <td>F</td>\n",
       "      <td>2.0</td>\n",
       "      <td>7.0</td>\n",
       "    </tr>\n",
       "    <tr>\n",
       "      <th>1</th>\n",
       "      <td>2</td>\n",
       "      <td>F</td>\n",
       "      <td>2.0</td>\n",
       "      <td>7.4</td>\n",
       "    </tr>\n",
       "    <tr>\n",
       "      <th>2</th>\n",
       "      <td>3</td>\n",
       "      <td>F</td>\n",
       "      <td>2.0</td>\n",
       "      <td>9.5</td>\n",
       "    </tr>\n",
       "    <tr>\n",
       "      <th>3</th>\n",
       "      <td>4</td>\n",
       "      <td>F</td>\n",
       "      <td>2.1</td>\n",
       "      <td>7.2</td>\n",
       "    </tr>\n",
       "    <tr>\n",
       "      <th>4</th>\n",
       "      <td>5</td>\n",
       "      <td>F</td>\n",
       "      <td>2.1</td>\n",
       "      <td>7.3</td>\n",
       "    </tr>\n",
       "    <tr>\n",
       "      <th>...</th>\n",
       "      <td>...</td>\n",
       "      <td>...</td>\n",
       "      <td>...</td>\n",
       "      <td>...</td>\n",
       "    </tr>\n",
       "    <tr>\n",
       "      <th>139</th>\n",
       "      <td>140</td>\n",
       "      <td>M</td>\n",
       "      <td>3.7</td>\n",
       "      <td>11.0</td>\n",
       "    </tr>\n",
       "    <tr>\n",
       "      <th>140</th>\n",
       "      <td>141</td>\n",
       "      <td>M</td>\n",
       "      <td>3.8</td>\n",
       "      <td>14.8</td>\n",
       "    </tr>\n",
       "    <tr>\n",
       "      <th>141</th>\n",
       "      <td>142</td>\n",
       "      <td>M</td>\n",
       "      <td>3.8</td>\n",
       "      <td>16.8</td>\n",
       "    </tr>\n",
       "    <tr>\n",
       "      <th>142</th>\n",
       "      <td>143</td>\n",
       "      <td>M</td>\n",
       "      <td>3.9</td>\n",
       "      <td>14.4</td>\n",
       "    </tr>\n",
       "    <tr>\n",
       "      <th>143</th>\n",
       "      <td>144</td>\n",
       "      <td>M</td>\n",
       "      <td>3.9</td>\n",
       "      <td>20.5</td>\n",
       "    </tr>\n",
       "  </tbody>\n",
       "</table>\n",
       "<p>144 rows × 4 columns</p>\n",
       "</div>"
      ],
      "text/plain": [
       "     row sex  body_weight_kg  heart_weight_g\n",
       "0      1   F             2.0             7.0\n",
       "1      2   F             2.0             7.4\n",
       "2      3   F             2.0             9.5\n",
       "3      4   F             2.1             7.2\n",
       "4      5   F             2.1             7.3\n",
       "..   ...  ..             ...             ...\n",
       "139  140   M             3.7            11.0\n",
       "140  141   M             3.8            14.8\n",
       "141  142   M             3.8            16.8\n",
       "142  143   M             3.9            14.4\n",
       "143  144   M             3.9            20.5\n",
       "\n",
       "[144 rows x 4 columns]"
      ]
     },
     "execution_count": 1,
     "metadata": {},
     "output_type": "execute_result"
    }
   ],
   "source": [
    "# Use pandas to import a new, unique csv dataset into a DataFrame.\n",
    "import pandas as pd\n",
    "\n",
    "df = pd.read_csv('https://vincentarelbundock.github.io/' + \n",
    "                      'Rdatasets/csv/MASS/cats.csv')\n",
    "\n",
    "# Use the DataFrame commands to clean the data as needed and/or rename the columns.\n",
    "df.columns = ['row', 'sex', 'body_weight_kg', 'heart_weight_g']\n",
    "pd.set_option('precision', 2)\n",
    "print(\"Cats Dataframe\")\n",
    "df"
   ]
  },
  {
   "cell_type": "code",
   "execution_count": 2,
   "id": "392b24f1-90c8-459b-a1aa-e866cda776c7",
   "metadata": {},
   "outputs": [
    {
     "name": "stdout",
     "output_type": "stream",
     "text": [
      "Statistics:\n",
      "          row  body_weight_kg  heart_weight_g\n",
      "count  144.00          144.00          144.00\n",
      "mean    72.50            2.72           10.63\n",
      "std     41.71            0.49            2.43\n",
      "min      1.00            2.00            6.30\n",
      "25%     36.75            2.30            8.95\n",
      "50%     72.50            2.70           10.10\n",
      "75%    108.25            3.02           12.12\n",
      "max    144.00            3.90           20.50\n",
      "\n",
      "Statistics for Cats < 3.5 kg\n",
      "count      144\n",
      "unique       2\n",
      "top       True\n",
      "freq       130\n",
      "Name: body_weight_kg, dtype: object\n",
      "\n",
      "Statistics for Male Cats\n",
      "count      144\n",
      "unique       2\n",
      "top       True\n",
      "freq        97\n",
      "Name: sex, dtype: object\n"
     ]
    }
   ],
   "source": [
    "# Use the DataFrame describe() function to calculate basic descriptive statistics. \n",
    "print('Statistics:')\n",
    "print(df.describe())\n",
    "print()\n",
    "\n",
    "print('Statistics for Cats < 3.5 kg')\n",
    "print((df.body_weight_kg < 3.5).describe() )\n",
    "print()\n",
    "\n",
    "print('Statistics for Male Cats')\n",
    "print((df.sex == 'M').describe() )"
   ]
  },
  {
   "cell_type": "code",
   "execution_count": 4,
   "id": "f7f47afc-04a4-4c5b-a6cf-ad106c7cb936",
   "metadata": {},
   "outputs": [
    {
     "data": {
      "image/png": "[encoded data removed]",
      "text/plain": [
       "<Figure size 432x288 with 4 Axes>"
      ]
     },
     "metadata": {
      "needs_background": "light"
     },
     "output_type": "display_data"
    }
   ],
   "source": [
    "# Use the DataFrame hist() function to generate histograms for the numeric columns. \n",
    "# using %matplotlib without the inline didn't work for me\n",
    "%matplotlib inline\n",
    "histogram = df.hist()"
   ]
  },
  {
   "cell_type": "code",
   "execution_count": null,
   "id": "08e8218c-1687-4040-95d3-0d51c2efcd55",
   "metadata": {},
   "outputs": [],
   "source": [
    "# Display your work in a screenshot showing some of your charts and commands."
   ]
  },
  {
   "cell_type": "code",
   "execution_count": null,
   "id": "f0f8f69a-827d-432b-aa53-3a5288e73857",
   "metadata": {},
   "outputs": [],
   "source": [
    "# amanda hanway"
   ]
  }
 ],
 "metadata": {
  "kernelspec": {
   "display_name": "Python 3 (ipykernel)",
   "language": "python",
   "name": "python3"
  },
  "language_info": {
   "codemirror_mode": {
    "name": "ipython",
    "version": 3
   },
   "file_extension": ".py",
   "mimetype": "text/x-python",
   "name": "python",
   "nbconvert_exporter": "python",
   "pygments_lexer": "ipython3",
   "version": "3.9.7"
  }
 },
 "nbformat": 4,
 "nbformat_minor": 5
}
